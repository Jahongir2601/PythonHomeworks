{
 "cells": [
  {
   "cell_type": "code",
   "execution_count": null,
   "metadata": {},
   "outputs": [
    {
     "name": "stdout",
     "output_type": "stream",
     "text": [
      "['1', '5']\n"
     ]
    }
   ],
   "source": [
    "# 1\n",
    "def f(x,y):\n",
    "    f = []\n",
    "    for item in x:\n",
    "        if item not in y:\n",
    "            f.append(item)\n",
    "\n",
    "    for item in y:\n",
    "        if item not in x:\n",
    "            f.append(item)\n",
    "    return(f)\n",
    "a = input('1-list elementlarini kiriting:',)\n",
    "b = input('2-list elementlarini kiriting:',)\n",
    "c = f(a,b)\n",
    "print(c)"
   ]
  },
  {
   "cell_type": "code",
   "execution_count": null,
   "metadata": {},
   "outputs": [
    {
     "name": "stdout",
     "output_type": "stream",
     "text": [
      "1\n",
      "4\n",
      "9\n",
      "16\n",
      "25\n",
      "36\n",
      "49\n",
      "64\n",
      "81\n"
     ]
    }
   ],
   "source": [
    "# 2\n",
    "n = int(input())\n",
    "for i in range(1,n):\n",
    "    print(i ** 2)"
   ]
  },
  {
   "cell_type": "code",
   "execution_count": null,
   "metadata": {},
   "outputs": [],
   "source": [
    "# 3\n"
   ]
  },
  {
   "cell_type": "code",
   "execution_count": 2,
   "metadata": {},
   "outputs": [
    {
     "name": "stdout",
     "output_type": "stream",
     "text": [
      "Too low\n",
      "Too low\n",
      "Too low\n",
      "Too low\n",
      "Too low\n",
      "Too low\n",
      "Too low\n",
      "Too low\n",
      "Too low\n",
      "Too low\n",
      "You lost. Want to play again\n",
      "Too low\n",
      "Too high\n",
      "Too high\n",
      "Too high\n",
      "Too high\n",
      "Too high\n",
      "Too high\n",
      "Too high\n",
      "Too high\n",
      "Too high\n",
      "You lost. Want to play again\n",
      "Thanks for playing\n"
     ]
    }
   ],
   "source": [
    "# 4\n",
    "import random\n",
    "def Number_guessing_game():\n",
    "    Number = random.randint(1, 100)\n",
    "    guesses = 0\n",
    "    max_guesses = 10\n",
    "\n",
    "    while guesses < max_guesses:\n",
    "        guess = int(input(f\"Attempt number {guesses+1}: Guess the number: \"))\n",
    "        guesses += 1\n",
    "        if guess > Number:\n",
    "            print('Too high')\n",
    "        elif guess < Number:\n",
    "            print('Too low')\n",
    "        else:\n",
    "            print('You guessed it right')\n",
    "            break\n",
    "    if guess != Number:\n",
    "        print('You lost. Want to play again')\n",
    "        a = input()\n",
    "        if a not in ['Yes', 'yes', \"Y\", 'y', 'ok']:\n",
    "            print(\"Thanks for playing\")\n",
    "        else:\n",
    "            Number_guessing_game()\n",
    "\n",
    "Number_guessing_game()"
   ]
  }
 ],
 "metadata": {
  "kernelspec": {
   "display_name": "Python 3",
   "language": "python",
   "name": "python3"
  },
  "language_info": {
   "codemirror_mode": {
    "name": "ipython",
    "version": 3
   },
   "file_extension": ".py",
   "mimetype": "text/x-python",
   "name": "python",
   "nbconvert_exporter": "python",
   "pygments_lexer": "ipython3",
   "version": "3.12.8"
  }
 },
 "nbformat": 4,
 "nbformat_minor": 2
}
