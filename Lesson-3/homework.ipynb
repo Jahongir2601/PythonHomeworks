{
 "cells": [
  {
   "cell_type": "code",
   "execution_count": 17,
   "metadata": {},
   "outputs": [
    {
     "name": "stdout",
     "output_type": "stream",
     "text": [
      "2\n"
     ]
    }
   ],
   "source": [
    "a = ['apple', 'banana', 'apple', 'cherry']\n",
    "print(a.count('apple'))"
   ]
  },
  {
   "cell_type": "code",
   "execution_count": 14,
   "metadata": {},
   "outputs": [
    {
     "name": "stdout",
     "output_type": "stream",
     "text": [
      "10\n"
     ]
    }
   ],
   "source": [
    "a = [1,2,3,4]\n",
    "print(sum(a))"
   ]
  },
  {
   "cell_type": "code",
   "execution_count": 15,
   "metadata": {},
   "outputs": [
    {
     "name": "stdout",
     "output_type": "stream",
     "text": [
      "4\n"
     ]
    }
   ],
   "source": [
    "a = [1,2,3,4]\n",
    "print(max(a))"
   ]
  },
  {
   "cell_type": "code",
   "execution_count": 16,
   "metadata": {},
   "outputs": [
    {
     "name": "stdout",
     "output_type": "stream",
     "text": [
      "1\n"
     ]
    }
   ],
   "source": [
    "a = [1,2,3,4]\n",
    "print(min(a))"
   ]
  },
  {
   "cell_type": "code",
   "execution_count": 27,
   "metadata": {},
   "outputs": [
    {
     "name": "stdout",
     "output_type": "stream",
     "text": [
      "True\n"
     ]
    }
   ],
   "source": [
    "a = ['apple', 'banana', 'apple', 'cherry']\n",
    "b = 'apple'\n",
    "if b in a:\n",
    " print(True)\n",
    "else:\n",
    " print(False)"
   ]
  },
  {
   "cell_type": "code",
   "execution_count": null,
   "metadata": {},
   "outputs": [
    {
     "name": "stdout",
     "output_type": "stream",
     "text": [
      "None\n"
     ]
    }
   ],
   "source": [
    "a = ['apple', 'banana', 'apple', 'cherry']\n",
    "b = a[0] if a else None\n",
    "print(b)"
   ]
  },
  {
   "cell_type": "code",
   "execution_count": 66,
   "metadata": {},
   "outputs": [
    {
     "name": "stdout",
     "output_type": "stream",
     "text": [
      "cherry\n"
     ]
    }
   ],
   "source": [
    "a = ['apple', 'banana', 'apple', 'cherry']\n",
    "b = a[-1] if a else None\n",
    "print(b)"
   ]
  },
  {
   "cell_type": "code",
   "execution_count": null,
   "metadata": {},
   "outputs": [
    {
     "name": "stdout",
     "output_type": "stream",
     "text": [
      "['apple', 'banana', 'apple']\n"
     ]
    }
   ],
   "source": [
    "a = ['apple', 'banana', 'apple', 'cherry']\n",
    "print(a[0:3])"
   ]
  },
  {
   "cell_type": "code",
   "execution_count": 79,
   "metadata": {},
   "outputs": [
    {
     "name": "stdout",
     "output_type": "stream",
     "text": [
      "['cherry', 'apple', 'banana', 'apple']\n"
     ]
    }
   ],
   "source": [
    "a = ['apple', 'banana', 'apple', 'cherry']\n",
    "b = a[::-1] \n",
    "print(b)"
   ]
  },
  {
   "cell_type": "code",
   "execution_count": null,
   "metadata": {},
   "outputs": [
    {
     "name": "stdout",
     "output_type": "stream",
     "text": [
      "['apple', 'apple', 'banana', 'cherry']\n"
     ]
    }
   ],
   "source": [
    "a = ['apple', 'banana', 'apple', 'cherry']\n",
    "print(sorted(a))"
   ]
  },
  {
   "cell_type": "code",
   "execution_count": 92,
   "metadata": {},
   "outputs": [
    {
     "name": "stdout",
     "output_type": "stream",
     "text": [
      "['cherry', 'banana', 'apple']\n"
     ]
    }
   ],
   "source": [
    "a = ['apple', 'banana', 'apple', 'cherry']\n",
    "a = list(set(a))\n",
    "print(a)"
   ]
  },
  {
   "cell_type": "code",
   "execution_count": 100,
   "metadata": {},
   "outputs": [
    {
     "name": "stdout",
     "output_type": "stream",
     "text": [
      "['apple', 'banana', 'apple', 'ananas', 'cherry']\n"
     ]
    }
   ],
   "source": [
    "a = ['apple', 'banana', 'apple', 'cherry']\n",
    "b = 'ananas'\n",
    "a.insert(3,b)\n",
    "print(a)"
   ]
  },
  {
   "cell_type": "code",
   "execution_count": 105,
   "metadata": {},
   "outputs": [
    {
     "name": "stdout",
     "output_type": "stream",
     "text": [
      "1\n"
     ]
    }
   ],
   "source": [
    "a = ['apple', 'banana', 'apple', 'cherry']\n",
    "print(a.index('banana'))"
   ]
  },
  {
   "cell_type": "code",
   "execution_count": 127,
   "metadata": {},
   "outputs": [
    {
     "name": "stdout",
     "output_type": "stream",
     "text": [
      "3\n"
     ]
    }
   ],
   "source": [
    "def f(list, element):\n",
    "    return list.index(element)\n",
    "\n",
    "a = ['apple', 'banana', 'apple', 'cherry']\n",
    "b = 'cherry'\n",
    "print(f(a,b))"
   ]
  },
  {
   "cell_type": "code",
   "execution_count": null,
   "metadata": {},
   "outputs": [
    {
     "name": "stdout",
     "output_type": "stream",
     "text": [
      "False\n"
     ]
    }
   ],
   "source": [
    "a = ['apple', 'banana', 'apple', 'cherry']\n",
    "if len(a) ==0:\n",
    "    print(False)\n",
    "else :\n",
    "    print(True)"
   ]
  },
  {
   "cell_type": "code",
   "execution_count": 154,
   "metadata": {},
   "outputs": [
    {
     "name": "stdout",
     "output_type": "stream",
     "text": [
      "Juft sonlar soni: 3\n",
      "Toq sonlar soni: 4\n"
     ]
    }
   ],
   "source": [
    "def count_even(list):\n",
    "    count = 0\n",
    "    for num in list:\n",
    "        if num % 2 == 0:\n",
    "            count = count + 1\n",
    "    return count\n",
    "\n",
    "def count_odd(list):\n",
    "    count = 0\n",
    "    for num in list:\n",
    "        if num % 2 == 1:\n",
    "            count = count + 1\n",
    "    return count\n",
    "    \n",
    "a = [1, 2, 3, 4, 5, 6, 7]\n",
    "print('Juft sonlar soni:', count_even(a))\n",
    "    \n",
    "a = [1, 2, 3, 4, 5, 6, 7]\n",
    "print('Toq sonlar soni:', count_odd(a))\n",
    "\n"
   ]
  },
  {
   "cell_type": "code",
   "execution_count": 155,
   "metadata": {},
   "outputs": [
    {
     "name": "stdout",
     "output_type": "stream",
     "text": [
      "[['apple', 'banana', 'apple', 'cherry'], [1, 2, 3, 4, 5, 6, 7]]\n"
     ]
    }
   ],
   "source": [
    "a = ['apple', 'banana', 'apple', 'cherry']\n",
    "b = [1, 2, 3, 4, 5, 6, 7]\n",
    "print([a, b])"
   ]
  },
  {
   "cell_type": "code",
   "execution_count": null,
   "metadata": {},
   "outputs": [
    {
     "name": "stdout",
     "output_type": "stream",
     "text": [
      "False\n"
     ]
    }
   ],
   "source": [
    "a = [['apple', 'banana', 'apple', 'cherry'], [1, 2, 3, 4, 5, 6, 7]]\n",
    "b = [1, 2, 3, 4, 5, 6, 7]\n",
    "\n",
    "print(b in a)"
   ]
  },
  {
   "cell_type": "code",
   "execution_count": null,
   "metadata": {},
   "outputs": [
    {
     "name": "stdout",
     "output_type": "stream",
     "text": [
      "['apple', 2, 3, 4, 5, 6, 7]\n"
     ]
    }
   ],
   "source": [
    "def replace(list, old, new):\n",
    "    try:\n",
    "        a = list.index(old)\n",
    "        list[a] = new\n",
    "    except ValueError:\n",
    "        pass\n",
    "    return list\n",
    "\n",
    "a = [1, 2, 3, 4, 5, 6, 7]\n",
    "print(replace(a, 1, 'apple'))"
   ]
  },
  {
   "cell_type": "code",
   "execution_count": 8,
   "metadata": {},
   "outputs": [
    {
     "name": "stdout",
     "output_type": "stream",
     "text": [
      "10\n",
      "2\n"
     ]
    }
   ],
   "source": [
    "a = [1, 2, 3, 4, 5, 10, 11, 1]\n",
    "print(sorted(set(a))[-2])\n",
    "print(sorted(set(a))[1])"
   ]
  }
 ],
 "metadata": {
  "kernelspec": {
   "display_name": "Python 3",
   "language": "python",
   "name": "python3"
  },
  "language_info": {
   "codemirror_mode": {
    "name": "ipython",
    "version": 3
   },
   "file_extension": ".py",
   "mimetype": "text/x-python",
   "name": "python",
   "nbconvert_exporter": "python",
   "pygments_lexer": "ipython3",
   "version": "3.12.8"
  }
 },
 "nbformat": 4,
 "nbformat_minor": 2
}
