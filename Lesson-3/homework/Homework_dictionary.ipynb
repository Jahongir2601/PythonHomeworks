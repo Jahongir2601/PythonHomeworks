{
 "cells": [
  {
   "cell_type": "code",
   "execution_count": 13,
   "metadata": {},
   "outputs": [
    {
     "name": "stdout",
     "output_type": "stream",
     "text": [
      "wrong key\n"
     ]
    }
   ],
   "source": [
    "# 1\n",
    "person = {\n",
    "    \"name\": \"Jahongir\",\n",
    "    \"age\": \"22\",\n",
    "    \"email\": \"j.turaev@cbu.uz\"\n",
    "}\n",
    "try:\n",
    "     print(person[\"name\"])\n",
    "except:\n",
    "    print(\"wrong key\")"
   ]
  },
  {
   "cell_type": "code",
   "execution_count": 16,
   "metadata": {},
   "outputs": [
    {
     "name": "stdout",
     "output_type": "stream",
     "text": [
      "True\n"
     ]
    }
   ],
   "source": [
    "# 2\n",
    "person = {\n",
    "    \"name\": \"Jahongir\",\n",
    "    \"age\": \"22\",\n",
    "    \"email\": \"j.turaev@cbu.uz\"\n",
    "}\n",
    "key = 'name'\n",
    "if key in person.keys():\n",
    "    print(True)\n",
    "else:\n",
    "    print('not in keys')"
   ]
  },
  {
   "cell_type": "code",
   "execution_count": 17,
   "metadata": {},
   "outputs": [
    {
     "name": "stdout",
     "output_type": "stream",
     "text": [
      "3\n"
     ]
    }
   ],
   "source": [
    "# 3\n",
    "person = {\n",
    "    \"name\": \"Jahongir\",\n",
    "    \"age\": \"22\",\n",
    "    \"email\": \"j.turaev@cbu.uz\"\n",
    "}\n",
    "print(len(person.keys()))"
   ]
  },
  {
   "cell_type": "code",
   "execution_count": 19,
   "metadata": {},
   "outputs": [
    {
     "name": "stdout",
     "output_type": "stream",
     "text": [
      "['name', 'age', 'email']\n"
     ]
    }
   ],
   "source": [
    "# 4\n",
    "person = {\n",
    "    \"name\": \"Jahongir\",\n",
    "    \"age\": \"22\",\n",
    "    \"email\": \"j.turaev@cbu.uz\"\n",
    "}\n",
    "print(list(person.keys()))"
   ]
  },
  {
   "cell_type": "code",
   "execution_count": 20,
   "metadata": {},
   "outputs": [
    {
     "name": "stdout",
     "output_type": "stream",
     "text": [
      "['Jahongir', '22', 'j.turaev@cbu.uz']\n"
     ]
    }
   ],
   "source": [
    "# 5\n",
    "person = {\n",
    "    \"name\": \"Jahongir\",\n",
    "    \"age\": \"22\",\n",
    "    \"email\": \"j.turaev@cbu.uz\"\n",
    "}\n",
    "print(list(person.values()))"
   ]
  },
  {
   "cell_type": "code",
   "execution_count": 23,
   "metadata": {},
   "outputs": [
    {
     "name": "stdout",
     "output_type": "stream",
     "text": [
      "{'name': 'Jahongir', 'age': '22', 'email': 'j.turaev@cbu.uz', 'status': 'Not married'}\n"
     ]
    }
   ],
   "source": [
    "# 6\n",
    "person = {\n",
    "    \"name\": \"Jahongir\",\n",
    "    \"age\": \"22\",\n",
    "    \"email\": \"j.turaev@cbu.uz\"\n",
    "}\n",
    "person_add = {\n",
    "    \"status\" : \"Not married\"\n",
    "}\n",
    "person.update(person_add)\n",
    "print(person)"
   ]
  },
  {
   "cell_type": "code",
   "execution_count": 27,
   "metadata": {},
   "outputs": [
    {
     "name": "stdout",
     "output_type": "stream",
     "text": [
      "Wrong key\n",
      "{'name': 'Jahongir', 'age': '22', 'email': 'j.turaev@cbu.uz'}\n"
     ]
    }
   ],
   "source": [
    "# 7\n",
    "person = {\n",
    "    \"name\": \"Jahongir\",\n",
    "    \"age\": \"22\",\n",
    "    \"email\": \"j.turaev@cbu.uz\"\n",
    "}\n",
    "try:\n",
    "    person.pop('email')\n",
    "except:\n",
    "    print('Wrong key')\n",
    "print(person)"
   ]
  },
  {
   "cell_type": "code",
   "execution_count": 28,
   "metadata": {},
   "outputs": [
    {
     "name": "stdout",
     "output_type": "stream",
     "text": [
      "{}\n"
     ]
    }
   ],
   "source": [
    "# 8\n",
    "person = {\n",
    "    \"name\": \"Jahongir\",\n",
    "    \"age\": \"22\",\n",
    "    \"email\": \"j.turaev@cbu.uz\"\n",
    "}\n",
    "person.clear()\n",
    "print(person)"
   ]
  },
  {
   "cell_type": "code",
   "execution_count": 29,
   "metadata": {},
   "outputs": [
    {
     "name": "stdout",
     "output_type": "stream",
     "text": [
      "True\n"
     ]
    }
   ],
   "source": [
    "# 9\n",
    "person = {\n",
    "    \"name\": \"Jahongir\",\n",
    "    \"age\": \"22\",\n",
    "    \"email\": \"j.turaev@cbu.uz\"\n",
    "}\n",
    "if person:\n",
    "    print(True)\n",
    "else:\n",
    "    print(False)"
   ]
  },
  {
   "cell_type": "code",
   "execution_count": 40,
   "metadata": {},
   "outputs": [
    {
     "name": "stdout",
     "output_type": "stream",
     "text": [
      "Wrong key\n"
     ]
    }
   ],
   "source": [
    "# 10\n",
    "person = {\n",
    "    \"name\": \"Jahongir\",\n",
    "    \"age\": \"22\",\n",
    "    \"email\": \"j.turaev@cbu.uz\"\n",
    "}\n",
    "key = 'name'\n",
    "if key in person:\n",
    "    value = person[key]\n",
    "    print([key, value])\n",
    "else:\n",
    "    print('Wrong key')"
   ]
  },
  {
   "cell_type": "code",
   "execution_count": 45,
   "metadata": {},
   "outputs": [
    {
     "name": "stdout",
     "output_type": "stream",
     "text": [
      "{'name': 'Jahongir', 'age': '22', 'email': 'j.turaev@cbu.uz'}\n"
     ]
    }
   ],
   "source": [
    "# 11\n",
    "person = {\n",
    "    \"name\": \"Jakhongir\",\n",
    "    \"age\": \"22\",\n",
    "    \"email\": \"j.turaev@cbu.uz\"\n",
    "}\n",
    "person[\"name\"]='Jahongir'\n",
    "print(person)"
   ]
  },
  {
   "cell_type": "code",
   "execution_count": 53,
   "metadata": {},
   "outputs": [
    {
     "data": {
      "text/plain": [
       "1"
      ]
     },
     "execution_count": 53,
     "metadata": {},
     "output_type": "execute_result"
    }
   ],
   "source": [
    "# 12\n",
    "person = {\n",
    "    \"name\": \"Jahongir\",\n",
    "    \"age\": \"22\",\n",
    "    \"email\": \"j.turaev@cbu.uz\"\n",
    "}\n",
    "b = 'Jahongir'\n",
    "a = list(person.values())\n",
    "c = a.count(b)\n",
    "c\n",
    "\n"
   ]
  },
  {
   "cell_type": "code",
   "execution_count": 55,
   "metadata": {},
   "outputs": [
    {
     "data": {
      "text/plain": [
       "{'Jahongir': 'name', '22': 'age', 'j.turaev@cbu.uz': 'email'}"
      ]
     },
     "execution_count": 55,
     "metadata": {},
     "output_type": "execute_result"
    }
   ],
   "source": [
    "# 13\n",
    "person = {\n",
    "    \"name\": \"Jahongir\",\n",
    "    \"age\": \"22\",\n",
    "    \"email\": \"j.turaev@cbu.uz\"\n",
    "}\n",
    "new_person = {value: key for key, value in person.items()}\n",
    "new_person"
   ]
  },
  {
   "cell_type": "code",
   "execution_count": 60,
   "metadata": {},
   "outputs": [
    {
     "data": {
      "text/plain": [
       "{'name': 'Jahongir', 'age': '22', 'email': 'j.turaev@cbu.uz'}"
      ]
     },
     "execution_count": 60,
     "metadata": {},
     "output_type": "execute_result"
    }
   ],
   "source": [
    "# 15\n",
    "a = ['name', 'age', 'email']\n",
    "b = ['Jahongir', '22', 'j.turaev@cbu.uz']\n",
    "person = dict(zip(a, b))\n",
    "person\n"
   ]
  },
  {
   "cell_type": "code",
   "execution_count": 65,
   "metadata": {},
   "outputs": [
    {
     "data": {
      "text/plain": [
       "('name', 'Jahongir')"
      ]
     },
     "execution_count": 65,
     "metadata": {},
     "output_type": "execute_result"
    }
   ],
   "source": [
    "# 25\n",
    "person = {\n",
    "    \"name\": \"Jahongir\",\n",
    "    \"age\": \"22\",\n",
    "    \"email\": \"j.turaev@cbu.uz\"\n",
    "}\n",
    "list(person.items())[0]"
   ]
  }
 ],
 "metadata": {
  "kernelspec": {
   "display_name": "Python 3",
   "language": "python",
   "name": "python3"
  },
  "language_info": {
   "codemirror_mode": {
    "name": "ipython",
    "version": 3
   },
   "file_extension": ".py",
   "mimetype": "text/x-python",
   "name": "python",
   "nbconvert_exporter": "python",
   "pygments_lexer": "ipython3",
   "version": "3.12.8"
  }
 },
 "nbformat": 4,
 "nbformat_minor": 2
}
