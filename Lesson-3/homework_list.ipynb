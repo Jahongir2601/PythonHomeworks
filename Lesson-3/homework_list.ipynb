{
 "cells": [
  {
   "cell_type": "code",
   "execution_count": 17,
   "metadata": {},
   "outputs": [
    {
     "name": "stdout",
     "output_type": "stream",
     "text": [
      "2\n"
     ]
    }
   ],
   "source": [
    "# 1\n",
    "a = ['apple', 'banana', 'apple', 'cherry']\n",
    "print(a.count('apple'))"
   ]
  },
  {
   "cell_type": "code",
   "execution_count": 1,
   "metadata": {},
   "outputs": [
    {
     "name": "stdout",
     "output_type": "stream",
     "text": [
      "10\n"
     ]
    }
   ],
   "source": [
    "# 2\n",
    "a = [1,2,3,4]\n",
    "print(sum(a))"
   ]
  },
  {
   "cell_type": "code",
   "execution_count": 15,
   "metadata": {},
   "outputs": [
    {
     "name": "stdout",
     "output_type": "stream",
     "text": [
      "4\n"
     ]
    }
   ],
   "source": [
    "# 3\n",
    "a = [1,2,3,4]\n",
    "print(max(a))"
   ]
  },
  {
   "cell_type": "code",
   "execution_count": 16,
   "metadata": {},
   "outputs": [
    {
     "name": "stdout",
     "output_type": "stream",
     "text": [
      "1\n"
     ]
    }
   ],
   "source": [
    "# 4\n",
    "a = [1,2,3,4]\n",
    "print(min(a))"
   ]
  },
  {
   "cell_type": "code",
   "execution_count": 27,
   "metadata": {},
   "outputs": [
    {
     "name": "stdout",
     "output_type": "stream",
     "text": [
      "True\n"
     ]
    }
   ],
   "source": [
    "# 5\n",
    "a = ['apple', 'banana', 'apple', 'cherry']\n",
    "b = 'apple'\n",
    "if b in a:\n",
    " print(True)\n",
    "else:\n",
    " print(False)"
   ]
  },
  {
   "cell_type": "code",
   "execution_count": 3,
   "metadata": {},
   "outputs": [
    {
     "name": "stdout",
     "output_type": "stream",
     "text": [
      "apple\n"
     ]
    }
   ],
   "source": [
    "# 6\n",
    "a = ['apple', 'banana', 'apple', 'cherry']\n",
    "b = a[0] if a else None\n",
    "print(b)"
   ]
  },
  {
   "cell_type": "code",
   "execution_count": 66,
   "metadata": {},
   "outputs": [
    {
     "name": "stdout",
     "output_type": "stream",
     "text": [
      "cherry\n"
     ]
    }
   ],
   "source": [
    "# 7\n",
    "a = ['apple', 'banana', 'apple', 'cherry']\n",
    "b = a[-1] if a else None\n",
    "print(b)"
   ]
  },
  {
   "cell_type": "code",
   "execution_count": null,
   "metadata": {},
   "outputs": [
    {
     "name": "stdout",
     "output_type": "stream",
     "text": [
      "['apple', 'banana', 'apple']\n"
     ]
    }
   ],
   "source": [
    "# 8\n",
    "a = ['apple', 'banana', 'apple', 'cherry']\n",
    "print(a[0:3])"
   ]
  },
  {
   "cell_type": "code",
   "execution_count": 79,
   "metadata": {},
   "outputs": [
    {
     "name": "stdout",
     "output_type": "stream",
     "text": [
      "['cherry', 'apple', 'banana', 'apple']\n"
     ]
    }
   ],
   "source": [
    "# 9\n",
    "a = ['apple', 'banana', 'apple', 'cherry']\n",
    "b = a[::-1] \n",
    "print(b)"
   ]
  },
  {
   "cell_type": "code",
   "execution_count": null,
   "metadata": {},
   "outputs": [
    {
     "name": "stdout",
     "output_type": "stream",
     "text": [
      "['apple', 'apple', 'banana', 'cherry']\n"
     ]
    }
   ],
   "source": [
    "# 10\n",
    "a = ['apple', 'banana', 'apple', 'cherry']\n",
    "print(sorted(a))"
   ]
  },
  {
   "cell_type": "code",
   "execution_count": 92,
   "metadata": {},
   "outputs": [
    {
     "name": "stdout",
     "output_type": "stream",
     "text": [
      "['cherry', 'banana', 'apple']\n"
     ]
    }
   ],
   "source": [
    "# 11\n",
    "a = ['apple', 'banana', 'apple', 'cherry']\n",
    "a = list(set(a))\n",
    "print(a)"
   ]
  },
  {
   "cell_type": "code",
   "execution_count": 100,
   "metadata": {},
   "outputs": [
    {
     "name": "stdout",
     "output_type": "stream",
     "text": [
      "['apple', 'banana', 'apple', 'ananas', 'cherry']\n"
     ]
    }
   ],
   "source": [
    "# 12\n",
    "a = ['apple', 'banana', 'apple', 'cherry']\n",
    "b = 'ananas'\n",
    "a.insert(3,b)\n",
    "print(a)"
   ]
  },
  {
   "cell_type": "code",
   "execution_count": 105,
   "metadata": {},
   "outputs": [
    {
     "name": "stdout",
     "output_type": "stream",
     "text": [
      "1\n"
     ]
    }
   ],
   "source": [
    "# 13\n",
    "a = ['apple', 'banana', 'apple', 'cherry']\n",
    "print(a.index('banana'))"
   ]
  },
  {
   "cell_type": "code",
   "execution_count": null,
   "metadata": {},
   "outputs": [
    {
     "name": "stdout",
     "output_type": "stream",
     "text": [
      "False\n"
     ]
    }
   ],
   "source": [
    "# 14\n",
    "a = ['apple', 'banana', 'apple', 'cherry']\n",
    "if len(a) ==0:\n",
    "    print(False)\n",
    "else :\n",
    "    print(True)"
   ]
  },
  {
   "cell_type": "code",
   "execution_count": 154,
   "metadata": {},
   "outputs": [
    {
     "name": "stdout",
     "output_type": "stream",
     "text": [
      "Juft sonlar soni: 3\n",
      "Toq sonlar soni: 4\n"
     ]
    }
   ],
   "source": [
    "# 15 and 16\n",
    "def count_even(list):\n",
    "    count = 0\n",
    "    for num in list:\n",
    "        if num % 2 == 0:\n",
    "            count = count + 1\n",
    "    return count\n",
    "\n",
    "def count_odd(list):\n",
    "    count = 0\n",
    "    for num in list:\n",
    "        if num % 2 == 1:\n",
    "            count = count + 1\n",
    "    return count\n",
    "    \n",
    "a = [1, 2, 3, 4, 5, 6, 7]\n",
    "print('Juft sonlar soni:', count_even(a))\n",
    "    \n",
    "a = [1, 2, 3, 4, 5, 6, 7]\n",
    "print('Toq sonlar soni:', count_odd(a))\n",
    "\n"
   ]
  },
  {
   "cell_type": "code",
   "execution_count": 155,
   "metadata": {},
   "outputs": [
    {
     "name": "stdout",
     "output_type": "stream",
     "text": [
      "[['apple', 'banana', 'apple', 'cherry'], [1, 2, 3, 4, 5, 6, 7]]\n"
     ]
    }
   ],
   "source": [
    "# 17\n",
    "a = ['apple', 'banana', 'apple', 'cherry']\n",
    "b = [1, 2, 3, 4, 5, 6, 7]\n",
    "print([a, b])"
   ]
  },
  {
   "cell_type": "code",
   "execution_count": 2,
   "metadata": {},
   "outputs": [
    {
     "name": "stdout",
     "output_type": "stream",
     "text": [
      "True\n"
     ]
    }
   ],
   "source": [
    "# 18\n",
    "a = [['apple', 'banana', 'apple', 'cherry'], [1, 2, 3, 4, 5, 6, 7]]\n",
    "b = [1, 2, 3, 4, 5, 6, 7]\n",
    "\n",
    "print(b in a)"
   ]
  },
  {
   "cell_type": "code",
   "execution_count": 14,
   "metadata": {},
   "outputs": [
    {
     "name": "stdout",
     "output_type": "stream",
     "text": [
      "['apple', 2, 3, 4, 5, 6, 7]\n"
     ]
    }
   ],
   "source": [
    "# 19\n",
    "def replace(list, old, new):\n",
    "    a = list.index(old)\n",
    "    list[a] = new\n",
    "    return list\n",
    "\n",
    "a = [1, 2, 3, 4, 5, 6, 7]\n",
    "print(replace(a, 1, 'apple'))"
   ]
  },
  {
   "cell_type": "code",
   "execution_count": 15,
   "metadata": {},
   "outputs": [
    {
     "name": "stdout",
     "output_type": "stream",
     "text": [
      "10\n",
      "2\n"
     ]
    }
   ],
   "source": [
    "# 20 and 21\n",
    "a = [1, 2, 3, 4, 5, 10, 11, 1]\n",
    "print(sorted(set(a))[-2])\n",
    "print(sorted(set(a))[1])"
   ]
  },
  {
   "cell_type": "code",
   "execution_count": 29,
   "metadata": {},
   "outputs": [
    {
     "name": "stdout",
     "output_type": "stream",
     "text": [
      "[2, 4, 6]\n"
     ]
    }
   ],
   "source": [
    "# 22\n",
    "a = [1, 2, 3, 4, 5, 6]\n",
    "b = []\n",
    "for x in a:\n",
    "    if x % 2 == 0:\n",
    "        b.append(x)\n",
    "print(b)"
   ]
  },
  {
   "cell_type": "code",
   "execution_count": 30,
   "metadata": {},
   "outputs": [
    {
     "name": "stdout",
     "output_type": "stream",
     "text": [
      "[1, 3, 5]\n"
     ]
    }
   ],
   "source": [
    "# 23\n",
    "a = [1, 2, 3, 4, 5, 6]\n",
    "b = []\n",
    "for x in a:\n",
    "    if x % 2 == 1:\n",
    "        b.append(x)\n",
    "print(b)"
   ]
  },
  {
   "cell_type": "code",
   "execution_count": 32,
   "metadata": {},
   "outputs": [
    {
     "data": {
      "text/plain": [
       "6"
      ]
     },
     "execution_count": 32,
     "metadata": {},
     "output_type": "execute_result"
    }
   ],
   "source": [
    "# 24\n",
    "a = [1, 2, 3, 4, 5, 6]\n",
    "len(a)"
   ]
  },
  {
   "cell_type": "code",
   "execution_count": 36,
   "metadata": {},
   "outputs": [
    {
     "data": {
      "text/plain": [
       "[1, 2, 3, 4, 5, 6]"
      ]
     },
     "execution_count": 36,
     "metadata": {},
     "output_type": "execute_result"
    }
   ],
   "source": [
    "# 25\n",
    "a = [1, 2, 3, 4, 5, 6]\n",
    "a.copy()"
   ]
  },
  {
   "cell_type": "code",
   "execution_count": 51,
   "metadata": {},
   "outputs": [
    {
     "name": "stdout",
     "output_type": "stream",
     "text": [
      "3 4\n"
     ]
    }
   ],
   "source": [
    "# 26\n",
    "a = [1, 2, 3, 4, 5, 6]\n",
    "if len(a) % 2 == 0:\n",
    "    b = int(0.5 * len(a)) \n",
    "    print(a[b-1],a[b])\n",
    "else:\n",
    "    b = int(0.5 * len(a) - 0.5)\n",
    "    print(a[b])"
   ]
  },
  {
   "cell_type": "code",
   "execution_count": 12,
   "metadata": {},
   "outputs": [
    {
     "name": "stdout",
     "output_type": "stream",
     "text": [
      "5\n",
      "3\n"
     ]
    }
   ],
   "source": [
    "# 27 and 28\n",
    "a = [1, 2, 3, 4, 5, 6, 7]\n",
    "b = a[2:5]\n",
    "print(max(b))\n",
    "print(min(b))"
   ]
  },
  {
   "cell_type": "code",
   "execution_count": 9,
   "metadata": {},
   "outputs": [
    {
     "name": "stdout",
     "output_type": "stream",
     "text": [
      "[1, 2, 3, 4, 6, 7]\n"
     ]
    }
   ],
   "source": [
    "# 29\n",
    "a = [1, 2, 3, 4, 5, 6, 7]\n",
    "index = 4\n",
    "if index < len(a):\n",
    "    a.pop(index)\n",
    "    print(a)\n",
    "else:\n",
    "    print(a)"
   ]
  },
  {
   "cell_type": "code",
   "execution_count": 13,
   "metadata": {},
   "outputs": [
    {
     "name": "stdout",
     "output_type": "stream",
     "text": [
      "True\n"
     ]
    }
   ],
   "source": [
    "# 30\n",
    "a = [1, 1, 2, 3, 4, 5, 4]\n",
    "b = sorted(a)\n",
    "if a == b:\n",
    "    print(True)\n",
    "else:\n",
    "    print(False)"
   ]
  },
  {
   "cell_type": "code",
   "execution_count": 21,
   "metadata": {},
   "outputs": [
    {
     "name": "stdout",
     "output_type": "stream",
     "text": [
      "[1, 1, 1, 2, 2, 2, 3, 3, 3]\n"
     ]
    }
   ],
   "source": [
    "# 31\n",
    "a = [1, 2, 3]\n",
    "b = 2\n",
    "c = []\n",
    "for x in a:\n",
    "    c.extend([x] * 3)\n",
    "print(c)"
   ]
  },
  {
   "cell_type": "code",
   "execution_count": 23,
   "metadata": {},
   "outputs": [
    {
     "name": "stdout",
     "output_type": "stream",
     "text": [
      "[1, 1, 2, 2, 3, 4, 5]\n"
     ]
    }
   ],
   "source": [
    "# 32\n",
    "a = [1, 2, 3, 4]\n",
    "b = [1, 2, 5]\n",
    "c = sorted(a + b)\n",
    "print(c)"
   ]
  },
  {
   "cell_type": "code",
   "execution_count": 72,
   "metadata": {},
   "outputs": [
    {
     "name": "stdout",
     "output_type": "stream",
     "text": [
      "[0, 4, 6]\n"
     ]
    }
   ],
   "source": [
    "# 33\n",
    "a = [1, 2, 3, 4, 1, 2, 1, 3]\n",
    "element = 1\n",
    "b = []\n",
    "for x, y in enumerate(a):\n",
    "    if y == element:\n",
    "        b.append(x)\n",
    "print(b)"
   ]
  },
  {
   "cell_type": "code",
   "execution_count": 74,
   "metadata": {},
   "outputs": [
    {
     "name": "stdout",
     "output_type": "stream",
     "text": [
      "[4, 3, 2, 1]\n"
     ]
    }
   ],
   "source": [
    "# 34\n",
    "a = [1, 2, 3, 4]\n",
    "b = a[::-1]\n",
    "print(b)"
   ]
  },
  {
   "cell_type": "code",
   "execution_count": 83,
   "metadata": {},
   "outputs": [
    {
     "name": "stdout",
     "output_type": "stream",
     "text": [
      "[1, 2, 3, 4, 5, 6, 7, 8, 9, 10]\n"
     ]
    }
   ],
   "source": [
    "# 35\n",
    "a = list(range(1, 11))\n",
    "print(a)"
   ]
  },
  {
   "cell_type": "code",
   "execution_count": 87,
   "metadata": {},
   "outputs": [
    {
     "name": "stdout",
     "output_type": "stream",
     "text": [
      "15\n"
     ]
    }
   ],
   "source": [
    "# 36\n",
    "a = [1, 2, 3, 4, 5, -1, -2, -3]\n",
    "b = 0\n",
    "for i in a:\n",
    "    if i > 0:\n",
    "        b += i\n",
    "print(b)"
   ]
  },
  {
   "cell_type": "code",
   "execution_count": 88,
   "metadata": {},
   "outputs": [
    {
     "name": "stdout",
     "output_type": "stream",
     "text": [
      "-6\n"
     ]
    }
   ],
   "source": [
    "# 37\n",
    "a = [1, 2, 3, 4, 5, -1, -2, -3]\n",
    "b = 0\n",
    "for i in a:\n",
    "    if i < 0:\n",
    "        b += i\n",
    "print(b)"
   ]
  },
  {
   "cell_type": "code",
   "execution_count": 92,
   "metadata": {},
   "outputs": [
    {
     "name": "stdout",
     "output_type": "stream",
     "text": [
      "True\n"
     ]
    }
   ],
   "source": [
    "# 38\n",
    "a = [1, 2, 3, 2, 1]\n",
    "b = a[::-1]\n",
    "print(a == b)"
   ]
  },
  {
   "cell_type": "code",
   "execution_count": 15,
   "metadata": {},
   "outputs": [
    {
     "name": "stdout",
     "output_type": "stream",
     "text": [
      "[[1, 2, 3], [4, 5, 6], [7]]\n"
     ]
    }
   ],
   "source": [
    "# 39\n",
    "a = [1, 2, 3, 4, 5, 6, 7]\n",
    "b = 3\n",
    "c = []\n",
    "for i in range(0, len(a), b):\n",
    "    d = a[i:i+b]\n",
    "    c.append(d)\n",
    "print(c)"
   ]
  },
  {
   "cell_type": "code",
   "execution_count": 21,
   "metadata": {},
   "outputs": [
    {
     "name": "stdout",
     "output_type": "stream",
     "text": [
      "[1, 2, 3, 4]\n"
     ]
    }
   ],
   "source": [
    "# 40\n",
    "a = [1, 2, 1, 2, 3, 1, 2, 3, 4]\n",
    "b = []\n",
    "for x in a:\n",
    "    if x not in b:\n",
    "        b.append(x)\n",
    "print(b)"
   ]
  }
 ],
 "metadata": {
  "kernelspec": {
   "display_name": "Python 3",
   "language": "python",
   "name": "python3"
  },
  "language_info": {
   "codemirror_mode": {
    "name": "ipython",
    "version": 3
   },
   "file_extension": ".py",
   "mimetype": "text/x-python",
   "name": "python",
   "nbconvert_exporter": "python",
   "pygments_lexer": "ipython3",
   "version": "3.12.8"
  }
 },
 "nbformat": 4,
 "nbformat_minor": 2
}
