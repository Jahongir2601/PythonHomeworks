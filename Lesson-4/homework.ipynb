{
 "cells": [
  {
   "cell_type": "code",
   "execution_count": 34,
   "metadata": {},
   "outputs": [
    {
     "name": "stdout",
     "output_type": "stream",
     "text": [
      "['x', 'd', 'k', 'c', 'v', 'b', 'n']\n"
     ]
    }
   ],
   "source": [
    "def f(x,y):\n",
    "    f = []\n",
    "    for item in x:\n",
    "        if item not in y:\n",
    "            f.append(item)\n",
    "\n",
    "    for item in y:\n",
    "        if item not in x:\n",
    "            f.append(item)\n",
    "    return(f)\n",
    "a = input('1-list elementlarini kiriting:',)\n",
    "b = input('2-list elementlarini kiriting:',)\n",
    "c = f(a,b)\n",
    "print(c)"
   ]
  },
  {
   "cell_type": "code",
   "execution_count": 35,
   "metadata": {},
   "outputs": [
    {
     "ename": "ValueError",
     "evalue": "invalid literal for int() with base 10: ''",
     "output_type": "error",
     "traceback": [
      "\u001b[1;31m---------------------------------------------------------------------------\u001b[0m",
      "\u001b[1;31mValueError\u001b[0m                                Traceback (most recent call last)",
      "Cell \u001b[1;32mIn[35], line 1\u001b[0m\n\u001b[1;32m----> 1\u001b[0m n \u001b[38;5;241m=\u001b[39m \u001b[38;5;28;43mint\u001b[39;49m\u001b[43m(\u001b[49m\u001b[38;5;28;43minput\u001b[39;49m\u001b[43m(\u001b[49m\u001b[43m)\u001b[49m\u001b[43m)\u001b[49m\n\u001b[0;32m      2\u001b[0m \u001b[38;5;28;01mfor\u001b[39;00m i \u001b[38;5;129;01min\u001b[39;00m \u001b[38;5;28mrange\u001b[39m(n):\n\u001b[0;32m      3\u001b[0m     \u001b[38;5;28mprint\u001b[39m(i \u001b[38;5;241m*\u001b[39m\u001b[38;5;241m*\u001b[39m \u001b[38;5;241m2\u001b[39m)\n",
      "\u001b[1;31mValueError\u001b[0m: invalid literal for int() with base 10: ''"
     ]
    }
   ],
   "source": [
    "n = int(input())\n",
    "for i in range(n):\n",
    "    print(i ** 2)"
   ]
  },
  {
   "cell_type": "code",
   "execution_count": 6,
   "metadata": {},
   "outputs": [
    {
     "name": "stdout",
     "output_type": "stream",
     "text": [
      "Too low\n",
      "Too low\n",
      "Too low\n",
      "Too low\n",
      "Too low\n",
      "Too low\n",
      "Too low\n",
      "Too low\n",
      "Too low\n",
      "Too low\n",
      "You lost. Want to play again\n",
      "Too low\n",
      "Too low\n",
      "Too low\n",
      "Too low\n",
      "Too high\n",
      "Too high\n",
      "Too high\n",
      "Too high\n",
      "Too high\n",
      "Too low\n",
      "You lost. Want to play again\n",
      "Too low\n",
      "Too low\n",
      "Too low\n",
      "Too low\n",
      "Too low\n",
      "Too low\n",
      "Too low\n",
      "Too low\n",
      "Too low\n",
      "Too low\n",
      "You lost. Want to play again\n",
      "Thanks for playing\n"
     ]
    }
   ],
   "source": [
    "import random\n",
    "def Number_guessing_game():\n",
    "    Number = random.randint(1, 100)\n",
    "    guesses = 0\n",
    "    max_guesses = 10\n",
    "\n",
    "    while guesses < max_guesses:\n",
    "        guess = int(input(f\"Attempt number {guesses+1}: Guess the number: \"))\n",
    "        guesses += 1\n",
    "        if guess > Number:\n",
    "            print('Too high')\n",
    "        elif guess < Number:\n",
    "            print('Too low')\n",
    "        else:\n",
    "            print('You guessed it right')\n",
    "            break\n",
    "    if guess != Number:\n",
    "        print('You lost. Want to play again')\n",
    "        a = input()\n",
    "        if a not in ['Yes', 'yes', \"Y\", 'y', 'ok']:\n",
    "            print(\"Thanks for playing\")\n",
    "        else:\n",
    "            Number_guessing_game()\n",
    "\n",
    "Number_guessing_game()\n",
    "\n",
    "        "
   ]
  }
 ],
 "metadata": {
  "kernelspec": {
   "display_name": "Python 3",
   "language": "python",
   "name": "python3"
  },
  "language_info": {
   "codemirror_mode": {
    "name": "ipython",
    "version": 3
   },
   "file_extension": ".py",
   "mimetype": "text/x-python",
   "name": "python",
   "nbconvert_exporter": "python",
   "pygments_lexer": "ipython3",
   "version": "3.12.8"
  }
 },
 "nbformat": 4,
 "nbformat_minor": 2
}
