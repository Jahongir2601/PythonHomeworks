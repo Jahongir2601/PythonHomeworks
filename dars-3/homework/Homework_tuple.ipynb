{
 "cells": [
  {
   "cell_type": "code",
   "execution_count": 117,
   "metadata": {},
   "outputs": [
    {
     "data": {
      "text/plain": [
       "3"
      ]
     },
     "execution_count": 117,
     "metadata": {},
     "output_type": "execute_result"
    }
   ],
   "source": [
    "# 1\n",
    "a = (1, 1, 2, 1, 2, 3, 1, 2, 3, 4)\n",
    "a.count(2)"
   ]
  },
  {
   "cell_type": "code",
   "execution_count": 118,
   "metadata": {},
   "outputs": [
    {
     "name": "stdout",
     "output_type": "stream",
     "text": [
      "4\n",
      "1\n"
     ]
    }
   ],
   "source": [
    "# 2 and 3\n",
    "a = (1, 1, 2, 1, 2, 3, 1, 2, 3, 4)\n",
    "print(max(a))\n",
    "print(min(a))"
   ]
  },
  {
   "cell_type": "code",
   "execution_count": 119,
   "metadata": {},
   "outputs": [
    {
     "name": "stdout",
     "output_type": "stream",
     "text": [
      "True\n"
     ]
    }
   ],
   "source": [
    "# 4\n",
    "a = (1, 1, 2, 1, 2, 3, 1, 2, 3, 4)\n",
    "b = 3\n",
    "print(b in a)"
   ]
  },
  {
   "cell_type": "code",
   "execution_count": 120,
   "metadata": {},
   "outputs": [
    {
     "name": "stdout",
     "output_type": "stream",
     "text": [
      "1\n"
     ]
    }
   ],
   "source": [
    "# 5\n",
    "a = (1, 1, 2, 1, 2, 3, 1, 2, 3, 4)\n",
    "if a:\n",
    "    print(a[0])\n",
    "else:\n",
    "    print('Tuple is empty')"
   ]
  },
  {
   "cell_type": "code",
   "execution_count": 121,
   "metadata": {},
   "outputs": [
    {
     "name": "stdout",
     "output_type": "stream",
     "text": [
      "4\n"
     ]
    }
   ],
   "source": [
    "# 6\n",
    "a = (1, 1, 2, 1, 2, 3, 1, 2, 3, 4)\n",
    "if a:\n",
    "    print(a[-1])\n",
    "else:\n",
    "    print('Tuple is empty')"
   ]
  },
  {
   "cell_type": "code",
   "execution_count": 122,
   "metadata": {},
   "outputs": [
    {
     "data": {
      "text/plain": [
       "10"
      ]
     },
     "execution_count": 122,
     "metadata": {},
     "output_type": "execute_result"
    }
   ],
   "source": [
    "# 7\n",
    "a = (1, 1, 2, 1, 2, 3, 1, 2, 3, 4)\n",
    "len(a)"
   ]
  },
  {
   "cell_type": "code",
   "execution_count": 123,
   "metadata": {},
   "outputs": [
    {
     "data": {
      "text/plain": [
       "(1, 1, 2)"
      ]
     },
     "execution_count": 123,
     "metadata": {},
     "output_type": "execute_result"
    }
   ],
   "source": [
    "# 8\n",
    "a = (1, 1, 2, 1, 2, 3, 1, 2, 3, 4)\n",
    "a[0:3]"
   ]
  },
  {
   "cell_type": "code",
   "execution_count": 124,
   "metadata": {},
   "outputs": [
    {
     "name": "stdout",
     "output_type": "stream",
     "text": [
      "(1, 1, 2, 1, 2, 3, 1, 2, 3, 4, 'apple', 'banana', 'cherry')\n"
     ]
    }
   ],
   "source": [
    "# 9\n",
    "a = (1, 1, 2, 1, 2, 3, 1, 2, 3, 4)\n",
    "b = ('apple', 'banana', 'cherry')\n",
    "c = a + b\n",
    "print(c)"
   ]
  },
  {
   "cell_type": "code",
   "execution_count": 125,
   "metadata": {},
   "outputs": [
    {
     "name": "stdout",
     "output_type": "stream",
     "text": [
      "True\n"
     ]
    }
   ],
   "source": [
    "# 10\n",
    "a = (1, 1, 2, 1, 2, 3, 1, 2, 3, 4)\n",
    "if a:\n",
    "    print(True)\n",
    "else:\n",
    "    print(False)"
   ]
  },
  {
   "cell_type": "code",
   "execution_count": 126,
   "metadata": {},
   "outputs": [
    {
     "name": "stdout",
     "output_type": "stream",
     "text": [
      "[0, 1, 3, 6]\n"
     ]
    }
   ],
   "source": [
    "# 11\n",
    "a = (1, 1, 2, 1, 2, 3, 1, 2, 3, 4)\n",
    "element = 1\n",
    "c = []\n",
    "for x,y in enumerate(a):\n",
    "    if y == element:\n",
    "        c.append(x)\n",
    "print(c)\n"
   ]
  },
  {
   "cell_type": "code",
   "execution_count": 127,
   "metadata": {},
   "outputs": [
    {
     "name": "stdout",
     "output_type": "stream",
     "text": [
      "2\n",
      "3\n"
     ]
    }
   ],
   "source": [
    "# 12 and 13\n",
    "a = (1, 1, 2, 1, 2, 3, 1, 2, 3, 4)\n",
    "print(sorted(set(a))[1])\n",
    "print(sorted(set(a))[-2])"
   ]
  },
  {
   "cell_type": "code",
   "execution_count": 128,
   "metadata": {},
   "outputs": [
    {
     "name": "stdout",
     "output_type": "stream",
     "text": [
      "<class 'tuple'>\n"
     ]
    }
   ],
   "source": [
    "# 14\n",
    "a = (1,)\n",
    "print(type(a))"
   ]
  },
  {
   "cell_type": "code",
   "execution_count": 129,
   "metadata": {},
   "outputs": [
    {
     "name": "stdout",
     "output_type": "stream",
     "text": [
      "(1, 1, 2, 1, 2, 3, 1, 2, 3, 4)\n"
     ]
    }
   ],
   "source": [
    "# 15\n",
    "a = [1, 1, 2, 1, 2, 3, 1, 2, 3, 4]\n",
    "print(tuple(a))"
   ]
  },
  {
   "cell_type": "code",
   "execution_count": 130,
   "metadata": {},
   "outputs": [
    {
     "name": "stdout",
     "output_type": "stream",
     "text": [
      "False\n"
     ]
    }
   ],
   "source": [
    "# 16\n",
    "a = (1, 1, 2, 1, 2, 3, 1, 2, 3, 4)\n",
    "print(a == tuple(sorted(a)))"
   ]
  },
  {
   "cell_type": "code",
   "execution_count": 131,
   "metadata": {},
   "outputs": [
    {
     "name": "stdout",
     "output_type": "stream",
     "text": [
      "3\n",
      "1\n"
     ]
    }
   ],
   "source": [
    "# 17 and 18\n",
    "a = (1, 1, 2, 1, 2, 3, 1, 2, 3, 4)\n",
    "b = a[2:6]\n",
    "print(max(b))\n",
    "print(min(b))"
   ]
  },
  {
   "cell_type": "code",
   "execution_count": 132,
   "metadata": {},
   "outputs": [
    {
     "name": "stdout",
     "output_type": "stream",
     "text": [
      "(1, 1, 1, 2, 3, 1, 2, 3, 4)\n"
     ]
    }
   ],
   "source": [
    "# 19\n",
    "a = (1, 1, 2, 1, 2, 3, 1, 2, 3, 4)\n",
    "element = 2\n",
    "b = list(a)\n",
    "c = b.pop(element)\n",
    "print(tuple(b))\n"
   ]
  },
  {
   "cell_type": "code",
   "execution_count": 133,
   "metadata": {},
   "outputs": [
    {
     "name": "stdout",
     "output_type": "stream",
     "text": [
      "((1, 2, 3), (4, 5, 6))\n"
     ]
    }
   ],
   "source": [
    "# 20\n",
    "a = (1, 2, 3, 4, 5, 6)\n",
    "b = 3\n",
    "c = []\n",
    "for x in range(0, len(a), 3):\n",
    "    d = a[x:x+3]\n",
    "    c.append(tuple(d))\n",
    "print(tuple(c))\n"
   ]
  },
  {
   "cell_type": "code",
   "execution_count": 134,
   "metadata": {},
   "outputs": [
    {
     "name": "stdout",
     "output_type": "stream",
     "text": [
      "(1, 1, 1, 2, 2, 2, 3, 3, 3, 4, 4, 4)\n"
     ]
    }
   ],
   "source": [
    "# 21\n",
    "a = (1, 2, 3, 4)\n",
    "c = []\n",
    "for x in a:\n",
    "    for y in range(3):\n",
    "        c.append(x)\n",
    "print(tuple(c))"
   ]
  },
  {
   "cell_type": "code",
   "execution_count": 135,
   "metadata": {},
   "outputs": [
    {
     "name": "stdout",
     "output_type": "stream",
     "text": [
      "(1, 2, 3, 4, 5, 6, 7, 8, 9, 10)\n"
     ]
    }
   ],
   "source": [
    "# 22\n",
    "a = tuple(range(1,11))\n",
    "print(a)"
   ]
  },
  {
   "cell_type": "code",
   "execution_count": 136,
   "metadata": {},
   "outputs": [
    {
     "name": "stdout",
     "output_type": "stream",
     "text": [
      "(3, 2, 1)\n"
     ]
    }
   ],
   "source": [
    "# 23\n",
    "a = (1, 2, 3)\n",
    "b = a[::-1]\n",
    "print(b)"
   ]
  },
  {
   "cell_type": "code",
   "execution_count": 137,
   "metadata": {},
   "outputs": [
    {
     "name": "stdout",
     "output_type": "stream",
     "text": [
      "False\n"
     ]
    }
   ],
   "source": [
    "# 24\n",
    "a = (1, 2, 3)\n",
    "b = a[::-1]\n",
    "print(a == b)"
   ]
  },
  {
   "cell_type": "code",
   "execution_count": 138,
   "metadata": {},
   "outputs": [
    {
     "name": "stdout",
     "output_type": "stream",
     "text": [
      "(1, 2, 3, 4)\n"
     ]
    }
   ],
   "source": [
    "# 25\n",
    "a = (1, 1, 2, 1, 2, 3, 1, 2, 3, 4)\n",
    "c = []\n",
    "for x in a:\n",
    "    if x not in c:\n",
    "        c.append(x)\n",
    "d = tuple(c)\n",
    "print(d)"
   ]
  }
 ],
 "metadata": {
  "kernelspec": {
   "display_name": "Python 3",
   "language": "python",
   "name": "python3"
  },
  "language_info": {
   "codemirror_mode": {
    "name": "ipython",
    "version": 3
   },
   "file_extension": ".py",
   "mimetype": "text/x-python",
   "name": "python",
   "nbconvert_exporter": "python",
   "pygments_lexer": "ipython3",
   "version": "3.12.8"
  }
 },
 "nbformat": 4,
 "nbformat_minor": 2
}
