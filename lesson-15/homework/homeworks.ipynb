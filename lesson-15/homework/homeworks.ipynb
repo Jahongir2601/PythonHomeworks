{
 "cells": [
  {
   "cell_type": "code",
   "execution_count": 1,
   "metadata": {},
   "outputs": [
    {
     "data": {
      "text/plain": [
       "array([10, 11, 12, 13, 14, 15, 16, 17, 18, 19, 20, 21, 22, 23, 24, 25, 26,\n",
       "       27, 28, 29, 30, 31, 32, 33, 34, 35, 36, 37, 38, 39, 40, 41, 42, 43,\n",
       "       44, 45, 46, 47, 48, 49])"
      ]
     },
     "execution_count": 1,
     "metadata": {},
     "output_type": "execute_result"
    }
   ],
   "source": [
    "import numpy as np\n",
    "vector = np.arange(10,50)\n",
    "vector"
   ]
  },
  {
   "cell_type": "code",
   "execution_count": 2,
   "metadata": {},
   "outputs": [
    {
     "data": {
      "text/plain": [
       "array([[0, 1, 2],\n",
       "       [3, 4, 5],\n",
       "       [6, 7, 8]])"
      ]
     },
     "execution_count": 2,
     "metadata": {},
     "output_type": "execute_result"
    }
   ],
   "source": [
    "matrix_3x3 = np.arange(9).reshape(3, 3) \n",
    "matrix_3x3"
   ]
  },
  {
   "cell_type": "code",
   "execution_count": 3,
   "metadata": {},
   "outputs": [
    {
     "data": {
      "text/plain": [
       "array([[1., 0., 0.],\n",
       "       [0., 1., 0.],\n",
       "       [0., 0., 1.]])"
      ]
     },
     "execution_count": 3,
     "metadata": {},
     "output_type": "execute_result"
    }
   ],
   "source": [
    "identity_matrix = np.eye(3)\n",
    "identity_matrix "
   ]
  },
  {
   "cell_type": "code",
   "execution_count": 4,
   "metadata": {},
   "outputs": [
    {
     "data": {
      "text/plain": [
       "array([[[0.69944987, 0.43138657, 0.49618547],\n",
       "        [0.89352495, 0.23284148, 0.53835247],\n",
       "        [0.46485105, 0.86791756, 0.15578384]],\n",
       "\n",
       "       [[0.57395205, 0.6051843 , 0.97722476],\n",
       "        [0.69312323, 0.40387132, 0.43315201],\n",
       "        [0.16166722, 0.24387236, 0.6605029 ]],\n",
       "\n",
       "       [[0.49444436, 0.86387839, 0.00487584],\n",
       "        [0.91045812, 0.18949957, 0.31996179],\n",
       "        [0.09367125, 0.29845849, 0.95830952]]])"
      ]
     },
     "execution_count": 4,
     "metadata": {},
     "output_type": "execute_result"
    }
   ],
   "source": [
    "array_3d = np.random.rand(3, 3, 3)\n",
    "array_3d\n"
   ]
  },
  {
   "cell_type": "code",
   "execution_count": 5,
   "metadata": {},
   "outputs": [
    {
     "name": "stdout",
     "output_type": "stream",
     "text": [
      "0.00038231468720173467\n",
      "0.9996456377384223\n"
     ]
    }
   ],
   "source": [
    "array_10d = np.random.rand(10, 10, 10)\n",
    "min_array = array_10d.min()\n",
    "max_array = array_10d.max()\n",
    "print(min_array)\n",
    "print(max_array)"
   ]
  },
  {
   "cell_type": "code",
   "execution_count": 6,
   "metadata": {},
   "outputs": [
    {
     "data": {
      "text/plain": [
       "np.float64(0.5313268034928184)"
      ]
     },
     "execution_count": 6,
     "metadata": {},
     "output_type": "execute_result"
    }
   ],
   "source": [
    "rand_vector = np.random.rand(30)\n",
    "rand_vector.mean()"
   ]
  },
  {
   "cell_type": "code",
   "execution_count": 7,
   "metadata": {},
   "outputs": [
    {
     "data": {
      "text/plain": [
       "array([[0.40951449, 0.32311434, 0.99115493, 0.80530248, 0.63631538],\n",
       "       [0.31028953, 0.80169798, 0.37271602, 0.64626784, 0.07913255],\n",
       "       [0.96899397, 1.        , 0.9021172 , 0.        , 0.8999946 ],\n",
       "       [0.85414749, 0.86774226, 0.41082454, 0.84910334, 0.1838644 ],\n",
       "       [0.99152547, 0.83147287, 0.58797457, 0.24126906, 0.66314371]])"
      ]
     },
     "execution_count": 7,
     "metadata": {},
     "output_type": "execute_result"
    }
   ],
   "source": [
    "x = np.random.rand(5, 5)\n",
    "y = (x-np.min(x))/(np.max(x)-np.min(x))\n",
    "y"
   ]
  },
  {
   "cell_type": "code",
   "execution_count": 8,
   "metadata": {},
   "outputs": [
    {
     "data": {
      "text/plain": [
       "array([[0.88474598, 0.53725591],\n",
       "       [0.48445739, 0.31113153],\n",
       "       [0.93347923, 0.45722657],\n",
       "       [1.15403793, 0.38616416],\n",
       "       [0.59938822, 0.32516597]])"
      ]
     },
     "execution_count": 8,
     "metadata": {},
     "output_type": "execute_result"
    }
   ],
   "source": [
    "a = np.random.rand(5, 3)\n",
    "b = np.random.rand(3, 2)\n",
    "c = np.dot(a, b)\n",
    "c"
   ]
  },
  {
   "cell_type": "code",
   "execution_count": 9,
   "metadata": {},
   "outputs": [
    {
     "data": {
      "text/plain": [
       "array([[0.84510785, 0.94600486, 1.16906322],\n",
       "       [0.61739608, 0.26844697, 0.56068424],\n",
       "       [0.73547364, 0.36032749, 0.78619961]])"
      ]
     },
     "execution_count": 9,
     "metadata": {},
     "output_type": "execute_result"
    }
   ],
   "source": [
    "a = np.random.rand(3, 3)\n",
    "b = np.random.rand(3, 3)\n",
    "c = np.dot(a, b)\n",
    "c"
   ]
  },
  {
   "cell_type": "code",
   "execution_count": 10,
   "metadata": {},
   "outputs": [
    {
     "name": "stdout",
     "output_type": "stream",
     "text": [
      "[[0.16641416 0.3512128  0.79141891 0.67402313]\n",
      " [0.65501824 0.84192028 0.39598401 0.0369465 ]\n",
      " [0.49778701 0.89689017 0.84894765 0.67406742]\n",
      " [0.91644361 0.26794567 0.76471415 0.16808494]]\n",
      "[[0.16641416 0.65501824 0.49778701 0.91644361]\n",
      " [0.3512128  0.84192028 0.89689017 0.26794567]\n",
      " [0.79141891 0.39598401 0.84894765 0.76471415]\n",
      " [0.67402313 0.0369465  0.67406742 0.16808494]]\n"
     ]
    }
   ],
   "source": [
    "matrix_4x4 = np.random.rand(4, 4)\n",
    "print(matrix_4x4)\n",
    "transpose_4x4 = matrix_4x4.T\n",
    "print(transpose_4x4)"
   ]
  },
  {
   "cell_type": "code",
   "execution_count": 11,
   "metadata": {},
   "outputs": [
    {
     "data": {
      "text/plain": [
       "np.float64(0.12319321714523908)"
      ]
     },
     "execution_count": 11,
     "metadata": {},
     "output_type": "execute_result"
    }
   ],
   "source": [
    "matrix_3x3_determinant = np.random.rand(3, 3)\n",
    "determinant = np.linalg.det(matrix_3x3_determinant)\n",
    "determinant"
   ]
  },
  {
   "cell_type": "code",
   "execution_count": 12,
   "metadata": {},
   "outputs": [
    {
     "data": {
      "text/plain": [
       "array([[0.97487583, 0.71113176, 1.00397247],\n",
       "       [1.48574829, 1.11206259, 1.40539517],\n",
       "       [1.30602156, 0.74123065, 1.24919196]])"
      ]
     },
     "execution_count": 12,
     "metadata": {},
     "output_type": "execute_result"
    }
   ],
   "source": [
    "matrix_3x4 = np.random.rand(3, 4)\n",
    "matrix_4x3 = np.random.rand(4, 3)\n",
    "mult = np.dot(matrix_3x4, matrix_4x3)\n",
    "mult "
   ]
  },
  {
   "cell_type": "code",
   "execution_count": 13,
   "metadata": {},
   "outputs": [
    {
     "data": {
      "text/plain": [
       "array([[1.18665331],\n",
       "       [1.14779787],\n",
       "       [1.01386168]])"
      ]
     },
     "execution_count": 13,
     "metadata": {},
     "output_type": "execute_result"
    }
   ],
   "source": [
    "matrix_3x3 = np.random.rand(3, 3)\n",
    "vector_3 = np.random.rand(3, 1)\n",
    "mult = np.dot(matrix_3x3, vector_3)\n",
    "mult "
   ]
  },
  {
   "cell_type": "code",
   "execution_count": 14,
   "metadata": {},
   "outputs": [
    {
     "data": {
      "text/plain": [
       "array([[-9.09396466],\n",
       "       [ 6.30344893],\n",
       "       [ 3.96024561]])"
      ]
     },
     "execution_count": 14,
     "metadata": {},
     "output_type": "execute_result"
    }
   ],
   "source": [
    "matrix_3x3 = np.random.rand(3, 3)\n",
    "vector_3 = np.random.rand(3, 1)\n",
    "x_solution = np.linalg.solve(matrix_3x3, vector_3)\n",
    "x_solution "
   ]
  },
  {
   "cell_type": "code",
   "execution_count": 15,
   "metadata": {},
   "outputs": [
    {
     "name": "stdout",
     "output_type": "stream",
     "text": [
      "[[0.98249496 0.96785857 0.66384373 0.2939892  0.87694382]\n",
      " [0.72912503 0.19357034 0.16164956 0.31706441 0.44445388]\n",
      " [0.79937155 0.52044422 0.05431738 0.45571473 0.44561568]\n",
      " [0.18585083 0.05917686 0.96882955 0.11775548 0.25073987]\n",
      " [0.74165097 0.23268532 0.8725693  0.73680095 0.49788339]]\n",
      "[3.78513029 1.84586322 2.27546356 1.58235259 3.08158994]\n",
      "[3.43849335 1.97373532 2.72120952 1.92132477 2.51563663]\n"
     ]
    }
   ],
   "source": [
    "matrix_5x5 = np.random.rand(5, 5)\n",
    "row_sum = matrix_5x5.sum(axis = 1)\n",
    "column_sum = matrix_5x5.sum(axis = 0)\n",
    "print(matrix_5x5)\n",
    "print(row_sum)\n",
    "print(column_sum)"
   ]
  }
 ],
 "metadata": {
  "kernelspec": {
   "display_name": "Python 3",
   "language": "python",
   "name": "python3"
  },
  "language_info": {
   "codemirror_mode": {
    "name": "ipython",
    "version": 3
   },
   "file_extension": ".py",
   "mimetype": "text/x-python",
   "name": "python",
   "nbconvert_exporter": "python",
   "pygments_lexer": "ipython3",
   "version": "3.12.8"
  }
 },
 "nbformat": 4,
 "nbformat_minor": 2
}
