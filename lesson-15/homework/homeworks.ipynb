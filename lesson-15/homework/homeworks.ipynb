{
 "cells": [
  {
   "cell_type": "code",
   "execution_count": 10,
   "metadata": {},
   "outputs": [
    {
     "data": {
      "text/plain": [
       "array([10, 11, 12, 13, 14, 15, 16, 17, 18, 19, 20, 21, 22, 23, 24, 25, 26,\n",
       "       27, 28, 29, 30, 31, 32, 33, 34, 35, 36, 37, 38, 39, 40, 41, 42, 43,\n",
       "       44, 45, 46, 47, 48, 49])"
      ]
     },
     "execution_count": 10,
     "metadata": {},
     "output_type": "execute_result"
    }
   ],
   "source": [
    "import numpy as np\n",
    "vector = np.arange(10,50)\n",
    "vector"
   ]
  },
  {
   "cell_type": "code",
   "execution_count": 13,
   "metadata": {},
   "outputs": [
    {
     "data": {
      "text/plain": [
       "array([[0, 1, 2],\n",
       "       [3, 4, 5],\n",
       "       [6, 7, 8]])"
      ]
     },
     "execution_count": 13,
     "metadata": {},
     "output_type": "execute_result"
    }
   ],
   "source": [
    "matrix_3x3 = np.arange(9).reshape(3, 3) \n",
    "matrix_3x3"
   ]
  },
  {
   "cell_type": "code",
   "execution_count": 14,
   "metadata": {},
   "outputs": [
    {
     "data": {
      "text/plain": [
       "array([[1., 0., 0.],\n",
       "       [0., 1., 0.],\n",
       "       [0., 0., 1.]])"
      ]
     },
     "execution_count": 14,
     "metadata": {},
     "output_type": "execute_result"
    }
   ],
   "source": [
    "identity_matrix = np.eye(3)\n",
    "identity_matrix "
   ]
  },
  {
   "cell_type": "code",
   "execution_count": 50,
   "metadata": {},
   "outputs": [
    {
     "data": {
      "text/plain": [
       "array([[[0.08325826, 0.18855016, 0.7844339 ],\n",
       "        [0.20716152, 0.00167996, 0.06542806],\n",
       "        [0.58313703, 0.90854133, 0.18332409]],\n",
       "\n",
       "       [[0.24770627, 0.84425499, 0.36985115],\n",
       "        [0.56742166, 0.11342635, 0.86598121],\n",
       "        [0.84363185, 0.39389128, 0.8780098 ]],\n",
       "\n",
       "       [[0.52566143, 0.87421162, 0.1272835 ],\n",
       "        [0.1313663 , 0.53011734, 0.72627635],\n",
       "        [0.64419233, 0.39406697, 0.02113098]]])"
      ]
     },
     "execution_count": 50,
     "metadata": {},
     "output_type": "execute_result"
    }
   ],
   "source": [
    "array_3d = np.random.rand(3, 3, 3)\n",
    "array_3d\n"
   ]
  },
  {
   "cell_type": "code",
   "execution_count": 62,
   "metadata": {},
   "outputs": [
    {
     "name": "stdout",
     "output_type": "stream",
     "text": [
      "0.000815893577553295\n",
      "0.9999373914028741\n"
     ]
    }
   ],
   "source": [
    "array_10d = np.random.rand(10, 10, 10)\n",
    "min_array = array_10d.min()\n",
    "max_array = array_10d.max()\n",
    "print(min_array)\n",
    "print(max_array)"
   ]
  },
  {
   "cell_type": "code",
   "execution_count": 75,
   "metadata": {},
   "outputs": [
    {
     "data": {
      "text/plain": [
       "np.float64(0.47077162144111423)"
      ]
     },
     "execution_count": 75,
     "metadata": {},
     "output_type": "execute_result"
    }
   ],
   "source": [
    "rand_vector = np.random.rand(30)\n",
    "rand_vector.mean()"
   ]
  },
  {
   "cell_type": "code",
   "execution_count": 79,
   "metadata": {},
   "outputs": [
    {
     "data": {
      "text/plain": [
       "array([[0.        , 0.94758972, 1.        , 0.32706772, 0.40360055],\n",
       "       [0.96914041, 0.87333257, 0.28990989, 0.09063452, 0.96830426],\n",
       "       [0.25182269, 0.95401697, 0.89148844, 0.55033075, 0.08663684],\n",
       "       [0.19951925, 0.06959316, 0.14737816, 0.79821009, 0.92333624],\n",
       "       [0.07291198, 0.26999844, 0.93269288, 0.39047159, 0.17900395]])"
      ]
     },
     "execution_count": 79,
     "metadata": {},
     "output_type": "execute_result"
    }
   ],
   "source": [
    "x = np.random.rand(5, 5)\n",
    "y = (x-np.min(x))/(np.max(x)-np.min(x))\n",
    "y"
   ]
  },
  {
   "cell_type": "code",
   "execution_count": 82,
   "metadata": {},
   "outputs": [
    {
     "data": {
      "text/plain": [
       "array([[0.37980916, 0.28880486],\n",
       "       [0.48057471, 0.1873325 ],\n",
       "       [0.62704111, 0.15742005],\n",
       "       [0.95874868, 0.58349527],\n",
       "       [0.73940465, 0.18425371]])"
      ]
     },
     "execution_count": 82,
     "metadata": {},
     "output_type": "execute_result"
    }
   ],
   "source": [
    "a = np.random.rand(5, 3)\n",
    "b = np.random.rand(3, 2)\n",
    "c = np.dot(a, b)\n",
    "c"
   ]
  },
  {
   "cell_type": "code",
   "execution_count": 83,
   "metadata": {},
   "outputs": [
    {
     "data": {
      "text/plain": [
       "array([[0.68442183, 0.41375276, 0.4928678 ],\n",
       "       [0.44438331, 0.31402659, 0.36765302],\n",
       "       [0.62201723, 0.95247905, 1.04610605]])"
      ]
     },
     "execution_count": 83,
     "metadata": {},
     "output_type": "execute_result"
    }
   ],
   "source": [
    "a = np.random.rand(3, 3)\n",
    "b = np.random.rand(3, 3)\n",
    "c = np.dot(a, b)\n",
    "c"
   ]
  },
  {
   "cell_type": "code",
   "execution_count": 84,
   "metadata": {},
   "outputs": [
    {
     "name": "stdout",
     "output_type": "stream",
     "text": [
      "[[0.29852161 0.40795094 0.90647017 0.60722038]\n",
      " [0.00458834 0.75685329 0.93293924 0.66527317]\n",
      " [0.20843884 0.05873905 0.64980558 0.69450912]\n",
      " [0.32809631 0.1899446  0.88320972 0.66581981]]\n",
      "[[0.29852161 0.00458834 0.20843884 0.32809631]\n",
      " [0.40795094 0.75685329 0.05873905 0.1899446 ]\n",
      " [0.90647017 0.93293924 0.64980558 0.88320972]\n",
      " [0.60722038 0.66527317 0.69450912 0.66581981]]\n"
     ]
    }
   ],
   "source": [
    "matrix_4x4 = np.random.rand(4, 4)\n",
    "print(matrix_4x4)\n",
    "transpose_4x4 = matrix_4x4.T\n",
    "print(transpose_4x4)"
   ]
  },
  {
   "cell_type": "code",
   "execution_count": 90,
   "metadata": {},
   "outputs": [
    {
     "data": {
      "text/plain": [
       "np.float64(0.013843587287457585)"
      ]
     },
     "execution_count": 90,
     "metadata": {},
     "output_type": "execute_result"
    }
   ],
   "source": [
    "matrix_3x3_determinant = np.random.rand(3, 3)\n",
    "determinant = np.linalg.det(matrix_3x3_determinant)\n",
    "determinant"
   ]
  },
  {
   "cell_type": "code",
   "execution_count": 91,
   "metadata": {},
   "outputs": [
    {
     "data": {
      "text/plain": [
       "array([[0.33982301, 1.19393037, 0.74334177],\n",
       "       [0.38381138, 0.98397276, 0.8562808 ],\n",
       "       [0.60653732, 1.40673642, 1.21905618]])"
      ]
     },
     "execution_count": 91,
     "metadata": {},
     "output_type": "execute_result"
    }
   ],
   "source": [
    "matrix_3x4 = np.random.rand(3, 4)\n",
    "matrix_4x3 = np.random.rand(4, 3)\n",
    "mult = np.dot(matrix_3x4, matrix_4x3)\n",
    "mult "
   ]
  },
  {
   "cell_type": "code",
   "execution_count": 93,
   "metadata": {},
   "outputs": [
    {
     "data": {
      "text/plain": [
       "array([[0.7324373 ],\n",
       "       [0.64239441],\n",
       "       [0.60466166]])"
      ]
     },
     "execution_count": 93,
     "metadata": {},
     "output_type": "execute_result"
    }
   ],
   "source": [
    "matrix_3x3 = np.random.rand(3, 3)\n",
    "vector_3 = np.random.rand(3, 1)\n",
    "mult = np.dot(matrix_3x3, vector_3)\n",
    "mult "
   ]
  },
  {
   "cell_type": "code",
   "execution_count": 94,
   "metadata": {},
   "outputs": [
    {
     "data": {
      "text/plain": [
       "array([[-0.13695251],\n",
       "       [ 2.15844093],\n",
       "       [-2.11667678]])"
      ]
     },
     "execution_count": 94,
     "metadata": {},
     "output_type": "execute_result"
    }
   ],
   "source": [
    "matrix_3x3 = np.random.rand(3, 3)\n",
    "vector_3 = np.random.rand(3, 1)\n",
    "x_solution = np.linalg.solve(matrix_3x3, vector_3)\n",
    "x_solution "
   ]
  },
  {
   "cell_type": "code",
   "execution_count": 98,
   "metadata": {},
   "outputs": [
    {
     "name": "stdout",
     "output_type": "stream",
     "text": [
      "[[0.45417696 0.45171906 0.79463109 0.47214849 0.16509762]\n",
      " [0.65871075 0.98635059 0.7702009  0.15568915 0.70861992]\n",
      " [0.71946304 0.17764674 0.91260269 0.36849036 0.9368808 ]\n",
      " [0.26885513 0.58726792 0.7516461  0.6025574  0.65344625]\n",
      " [0.13882185 0.62886602 0.57266817 0.75435034 0.37099337]]\n",
      "[2.33777322 3.27957131 3.11508363 2.86377281 2.46569973]\n",
      "[2.24002773 2.83185033 3.80174895 2.35323573 2.83503796]\n"
     ]
    }
   ],
   "source": [
    "matrix_5x5 = np.random.rand(5, 5)\n",
    "row_sum = matrix_5x5.sum(axis = 1)\n",
    "column_sum = matrix_5x5.sum(axis = 0)\n",
    "print(matrix_5x5)\n",
    "print(row_sum)\n",
    "print(column_sum)"
   ]
  }
 ],
 "metadata": {
  "kernelspec": {
   "display_name": "Python 3",
   "language": "python",
   "name": "python3"
  },
  "language_info": {
   "codemirror_mode": {
    "name": "ipython",
    "version": 3
   },
   "file_extension": ".py",
   "mimetype": "text/x-python",
   "name": "python",
   "nbconvert_exporter": "python",
   "pygments_lexer": "ipython3",
   "version": "3.12.8"
  }
 },
 "nbformat": 4,
 "nbformat_minor": 2
}
